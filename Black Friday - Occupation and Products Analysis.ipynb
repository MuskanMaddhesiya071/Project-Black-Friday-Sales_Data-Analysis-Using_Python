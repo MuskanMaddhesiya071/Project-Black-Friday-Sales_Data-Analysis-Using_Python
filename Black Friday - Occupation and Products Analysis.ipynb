{
 "cells": [
  {
   "cell_type": "code",
   "execution_count": 1,
   "id": "94a51ead",
   "metadata": {},
   "outputs": [],
   "source": [
    "import pandas as pd\n",
    "import seaborn as sns"
   ]
  },
  {
   "cell_type": "code",
   "execution_count": 2,
   "id": "dcc08c64",
   "metadata": {},
   "outputs": [],
   "source": [
    "df = pd.read_csv('BlackFriday.csv')\n",
    "\n",
    "del df['Product_Category_2']\n",
    "del df['Product_Category_3']"
   ]
  },
  {
   "cell_type": "code",
   "execution_count": 3,
   "id": "000411e8",
   "metadata": {},
   "outputs": [
    {
     "data": {
      "text/html": [
       "<div>\n",
       "<style scoped>\n",
       "    .dataframe tbody tr th:only-of-type {\n",
       "        vertical-align: middle;\n",
       "    }\n",
       "\n",
       "    .dataframe tbody tr th {\n",
       "        vertical-align: top;\n",
       "    }\n",
       "\n",
       "    .dataframe thead th {\n",
       "        text-align: right;\n",
       "    }\n",
       "</style>\n",
       "<table border=\"1\" class=\"dataframe\">\n",
       "  <thead>\n",
       "    <tr style=\"text-align: right;\">\n",
       "      <th></th>\n",
       "      <th>User_ID</th>\n",
       "      <th>Product_ID</th>\n",
       "      <th>Gender</th>\n",
       "      <th>Age</th>\n",
       "      <th>Occupation</th>\n",
       "      <th>City_Category</th>\n",
       "      <th>Stay_In_Current_City_Years</th>\n",
       "      <th>Marital_Status</th>\n",
       "      <th>Product_Category_1</th>\n",
       "      <th>Purchase</th>\n",
       "    </tr>\n",
       "  </thead>\n",
       "  <tbody>\n",
       "    <tr>\n",
       "      <th>0</th>\n",
       "      <td>1000001</td>\n",
       "      <td>P00069042</td>\n",
       "      <td>F</td>\n",
       "      <td>0-17</td>\n",
       "      <td>10</td>\n",
       "      <td>A</td>\n",
       "      <td>2</td>\n",
       "      <td>0</td>\n",
       "      <td>3</td>\n",
       "      <td>8370</td>\n",
       "    </tr>\n",
       "    <tr>\n",
       "      <th>1</th>\n",
       "      <td>1000001</td>\n",
       "      <td>P00248942</td>\n",
       "      <td>F</td>\n",
       "      <td>0-17</td>\n",
       "      <td>10</td>\n",
       "      <td>A</td>\n",
       "      <td>2</td>\n",
       "      <td>0</td>\n",
       "      <td>1</td>\n",
       "      <td>15200</td>\n",
       "    </tr>\n",
       "    <tr>\n",
       "      <th>2</th>\n",
       "      <td>1000001</td>\n",
       "      <td>P00087842</td>\n",
       "      <td>F</td>\n",
       "      <td>0-17</td>\n",
       "      <td>10</td>\n",
       "      <td>A</td>\n",
       "      <td>2</td>\n",
       "      <td>0</td>\n",
       "      <td>12</td>\n",
       "      <td>1422</td>\n",
       "    </tr>\n",
       "    <tr>\n",
       "      <th>3</th>\n",
       "      <td>1000001</td>\n",
       "      <td>P00085442</td>\n",
       "      <td>F</td>\n",
       "      <td>0-17</td>\n",
       "      <td>10</td>\n",
       "      <td>A</td>\n",
       "      <td>2</td>\n",
       "      <td>0</td>\n",
       "      <td>12</td>\n",
       "      <td>1057</td>\n",
       "    </tr>\n",
       "    <tr>\n",
       "      <th>4</th>\n",
       "      <td>1000002</td>\n",
       "      <td>P00285442</td>\n",
       "      <td>M</td>\n",
       "      <td>55+</td>\n",
       "      <td>16</td>\n",
       "      <td>C</td>\n",
       "      <td>4+</td>\n",
       "      <td>0</td>\n",
       "      <td>8</td>\n",
       "      <td>7969</td>\n",
       "    </tr>\n",
       "  </tbody>\n",
       "</table>\n",
       "</div>"
      ],
      "text/plain": [
       "   User_ID Product_ID Gender   Age  Occupation City_Category  \\\n",
       "0  1000001  P00069042      F  0-17          10             A   \n",
       "1  1000001  P00248942      F  0-17          10             A   \n",
       "2  1000001  P00087842      F  0-17          10             A   \n",
       "3  1000001  P00085442      F  0-17          10             A   \n",
       "4  1000002  P00285442      M   55+          16             C   \n",
       "\n",
       "  Stay_In_Current_City_Years  Marital_Status  Product_Category_1  Purchase  \n",
       "0                          2               0                   3      8370  \n",
       "1                          2               0                   1     15200  \n",
       "2                          2               0                  12      1422  \n",
       "3                          2               0                  12      1057  \n",
       "4                         4+               0                   8      7969  "
      ]
     },
     "execution_count": 3,
     "metadata": {},
     "output_type": "execute_result"
    }
   ],
   "source": [
    "df.head()"
   ]
  },
  {
   "cell_type": "code",
   "execution_count": 19,
   "id": "e0a6d587",
   "metadata": {},
   "outputs": [
    {
     "data": {
      "text/plain": [
       "<AxesSubplot:xlabel='Occupation'>"
      ]
     },
     "execution_count": 19,
     "metadata": {},
     "output_type": "execute_result"
    },
    {
     "data": {
      "image/png": "[encoded data removed]",
      "text/plain": [
       "<Figure size 432x288 with 1 Axes>"
      ]
     },
     "metadata": {
      "needs_background": "light"
     },
     "output_type": "display_data"
    }
   ],
   "source": [
    "df.groupby('Occupation').size().sort_values().plot(kind = 'bar')"
   ]
  },
  {
   "cell_type": "markdown",
   "id": "fcc37b7a",
   "metadata": {},
   "source": [
    "### Conclusion and insights\n",
    "- The countplot of occupations shows that some occupations **(4, 0, and 7)** have significantly **higher purchase counts** compared to others. These occupations likely represent customer segments with higher disposable income or greater interest in Black Friday sales. \n",
    "- Occupations with lower counts **(8, 9, 13, 19)** indicate **less engagement** with Black Friday sales, possibly due to lower purchasing power, different shopping preferences, or lack of interest in the promoted products. \n",
    "\n",
    "- **Retailer Strategy**: Retailers can target marketing campaigns towards occupations with higher purchase activity (e.g., 4, 0, 7) to maximize sales, while exploring ways to engage less active groups through tailored promotions."
   ]
  },
  {
   "cell_type": "code",
   "execution_count": 21,
   "id": "fafeb7ba",
   "metadata": {},
   "outputs": [
    {
     "data": {
      "text/plain": [
       "<AxesSubplot:xlabel='Occupation'>"
      ]
     },
     "execution_count": 21,
     "metadata": {},
     "output_type": "execute_result"
    },
    {
     "data": {
      "image/png": "[encoded data removed]",
      "text/plain": [
       "<Figure size 432x288 with 1 Axes>"
      ]
     },
     "metadata": {
      "needs_background": "light"
     },
     "output_type": "display_data"
    }
   ],
   "source": [
    "df.groupby('Occupation').sum()['Purchase'].sort_values().plot(kind = 'bar')"
   ]
  },
  {
   "cell_type": "markdown",
   "id": "21742c9f",
   "metadata": {},
   "source": [
    "### Conclusion\n",
    "\n",
    "The bar chart visualizes the total purchase amounts grouped by occupation, sorted in ascending order. Key observations include:\n",
    "\n",
    "- **Variation in Spending**: There is significant variation in total purchases across different occupations, indicating that occupation influences purchasing behavior.\n",
    "- **Lowest Spending Occupations**: Occupations on the left side of the chart (e.g., occupation '9') have the lowest total purchases.\n",
    "- **Highest Spending Occupations**: Occupations on the right side (e.g., occupation '4') show the highest total purchases, suggesting these groups may have higher disposable income or greater purchasing needs.\n",
    "\n",
    "This analysis can help businesses tailor marketing strategies or product offerings to specific occupational groups for better targeting and revenue optimization."
   ]
  },
  {
   "cell_type": "code",
   "execution_count": 22,
   "id": "e823dda2",
   "metadata": {},
   "outputs": [
    {
     "data": {
      "text/plain": [
       "<AxesSubplot:xlabel='Occupation'>"
      ]
     },
     "execution_count": 22,
     "metadata": {},
     "output_type": "execute_result"
    },
    {
     "data": {
      "image/png": "[encoded data removed]",
      "text/plain": [
       "<Figure size 432x288 with 1 Axes>"
      ]
     },
     "metadata": {
      "needs_background": "light"
     },
     "output_type": "display_data"
    }
   ],
   "source": [
    "df.groupby('Occupation').mean()['Purchase'].sort_values().plot(kind = 'bar')"
   ]
  },
  {
   "cell_type": "markdown",
   "id": "50d755fa",
   "metadata": {},
   "source": [
    "### Conclusion and Insights  \n",
    "\n",
    "The bar chart displays the **average purchase amounts** grouped by occupation, sorted in ascending order. Key takeaways include:    \n",
    "- **Lowest Average Spenders**: Occupations on the left (e.g., '9', '19', '20') have the lowest average purchase values, suggesting budget-conscious behavior or lower purchasing power.  \n",
    "- **Highest Average Spenders**: Occupations on the right (e.g., '17', '12', '15') show the highest average purchases, indicating greater spending capacity or premium product preferences.  \n",
    "\n",
    "#### Business Implications:  \n",
    "- **Targeted Marketing**: High-spending occupations (right side) could be prioritized for premium product promotions or loyalty programs.  \n",
    "- **Budget-Friendly Strategies**: For low-spending groups, discounts or value-based campaigns may improve engagement.  "
   ]
  },
  {
   "cell_type": "code",
   "execution_count": 24,
   "id": "61db3425",
   "metadata": {},
   "outputs": [
    {
     "data": {
      "text/plain": [
       "<AxesSubplot:xlabel='Occupation', ylabel='count'>"
      ]
     },
     "execution_count": 24,
     "metadata": {},
     "output_type": "execute_result"
    },
    {
     "data": {
      "image/png": "[encoded data removed]",
      "text/plain": [
       "<Figure size 432x288 with 1 Axes>"
      ]
     },
     "metadata": {
      "needs_background": "light"
     },
     "output_type": "display_data"
    }
   ],
   "source": [
    "sns.countplot(x = 'Occupation', hue = 'Marital_Status', data = df)"
   ]
  },
  {
   "cell_type": "code",
   "execution_count": 28,
   "id": "f5cac9ea",
   "metadata": {},
   "outputs": [
    {
     "data": {
      "text/plain": [
       "<AxesSubplot:xlabel='Occupation'>"
      ]
     },
     "execution_count": 28,
     "metadata": {},
     "output_type": "execute_result"
    },
    {
     "data": {
      "image/png": "[encoded data removed]",
      "text/plain": [
       "<Figure size 432x288 with 1 Axes>"
      ]
     },
     "metadata": {
      "needs_background": "light"
     },
     "output_type": "display_data"
    }
   ],
   "source": [
    "df.groupby('Occupation').nunique()['Product_ID'].sort_values().plot(kind = 'bar')"
   ]
  },
  {
   "cell_type": "markdown",
   "id": "1e0dfbe9",
   "metadata": {},
   "source": [
    "### Conclusion and Insights  \n",
    "\n",
    "The bar chart visualizes the **number of unique products purchased (Product_ID)** across different occupations\n",
    "\n",
    "- **Product Diversity by Occupation**:  \n",
    "  - Some occupations (right side of the chart) show significantly higher unique product purchases, indicating broader interests or greater purchasing power.  \n",
    "  - Others (left side) have fewer unique products, suggesting more specialized or limited buying behavior.  \n",
    "\n",
    "- **Potential Influencing Factors**:  \n",
    "  - High-diversity occupations may correlate with higher income, varied job roles, or industries with diverse needs (e.g., retail, healthcare).  \n",
    "  - Low-diversity occupations might reflect niche roles or budget constraints.  \n",
    "\n",
    "#### Business Implications:  \n",
    "1. **Inventory & Marketing**:  \n",
    "   - Target high-diversity groups with new product launches or bundled offers.  \n",
    "   - For low-diversity occupations, focus on core products or repeat-purchase incentives.  \n",
    " \n"
   ]
  },
  {
   "cell_type": "code",
   "execution_count": 34,
   "id": "403d3b1d",
   "metadata": {},
   "outputs": [
    {
     "data": {
      "text/plain": [
       "<AxesSubplot:xlabel='Product_Category_1'>"
      ]
     },
     "execution_count": 34,
     "metadata": {},
     "output_type": "execute_result"
    },
    {
     "data": {
      "image/png": "[encoded data removed]",
      "text/plain": [
       "<Figure size 432x288 with 1 Axes>"
      ]
     },
     "metadata": {
      "needs_background": "light"
     },
     "output_type": "display_data"
    }
   ],
   "source": [
    "df.groupby('Product_Category_1').size().sort_values().plot(kind = 'bar')"
   ]
  },
  {
   "cell_type": "markdown",
   "id": "5ba3c8ae",
   "metadata": {},
   "source": [
    "### Conclusion and Insights  \n",
    "\n",
    "The bar chart illustrates the **distribution of purchases across different product categories (Product_Category_1)**  \n",
    "\n",
    "- **Popularity Disparity**:  \n",
    "  - Categories on the right (e.g., **5, 1, 8, 11**) dominate with significantly higher purchase volumes, indicating strong consumer demand or frequent needs.  \n",
    "  - Categories on the left (e.g., **9, 17, 14**) show minimal purchases, suggesting niche markets or lower relevance.  \n",
    "\n",
    "- **Potential Trends**:  \n",
    "  - High-volume categories (right) likely represent essentials, impulse buys, or trending products.  \n",
    "  - Low-volume categories (left) may include specialized, seasonal, or premium items.  \n",
    "    \n",
    "    #### Business Implications:  \n",
    "  \n",
    "   - Allocate more stock and promotions to top-performing categories (e.g., **5, 1**).  \n",
    "   - Reassess the ROI of low-volume categories—consider bundling or discontinuing underperforming items.  "
   ]
  },
  {
   "cell_type": "code",
   "execution_count": 37,
   "id": "7163c6c9",
   "metadata": {},
   "outputs": [
    {
     "data": {
      "text/plain": [
       "<AxesSubplot:xlabel='Product_Category_1'>"
      ]
     },
     "execution_count": 37,
     "metadata": {},
     "output_type": "execute_result"
    },
    {
     "data": {
      "image/png": "[encoded data removed]",
      "text/plain": [
       "<Figure size 432x288 with 1 Axes>"
      ]
     },
     "metadata": {
      "needs_background": "light"
     },
     "output_type": "display_data"
    }
   ],
   "source": [
    "df.groupby('Product_Category_1').sum()['Purchase'].sort_values().plot(kind = 'bar')"
   ]
  },
  {
   "cell_type": "markdown",
   "id": "7febd09d",
   "metadata": {},
   "source": [
    "### Conclusion and Insights  \n",
    "\n",
    "The bar chart displays the **total purchase amounts by product category (Product_Category_1)**\n",
    "\n",
    "- **Revenue Contribution**:  \n",
    "  - Categories on the right (highest bars) generate the most revenue, indicating they are either high-ticket items or high-volume sellers.  \n",
    "  - Categories on the left contribute minimally to overall sales, suggesting they may be low-cost or low-demand products.   \n",
    "\n",
    "#### Business Implications:  \n",
    "1. **Strategic Focus**:  \n",
    "   - Prioritize marketing and inventory for high-revenue categories to maximize profitability.  \n",
    "   - Investigate whether low-revenue categories can be optimized (e.g., bundling, promotions) or phased out.  "
   ]
  },
  {
   "cell_type": "code",
   "execution_count": 38,
   "id": "bea2b87e",
   "metadata": {},
   "outputs": [
    {
     "data": {
      "text/plain": [
       "<AxesSubplot:xlabel='Product_Category_1'>"
      ]
     },
     "execution_count": 38,
     "metadata": {},
     "output_type": "execute_result"
    },
    {
     "data": {
      "image/png": "[encoded data removed]",
      "text/plain": [
       "<Figure size 432x288 with 1 Axes>"
      ]
     },
     "metadata": {
      "needs_background": "light"
     },
     "output_type": "display_data"
    }
   ],
   "source": [
    "df.groupby('Product_Category_1').mean()['Purchase'].sort_values().plot(kind = 'bar')"
   ]
  },
  {
   "cell_type": "markdown",
   "id": "a9ac7f98",
   "metadata": {},
   "source": [
    "### Conclusion and Insights  \n",
    "\n",
    "The bar chart presents the **average purchase value per transaction across product categories (Product_Category_1)**\n",
    "\n",
    "- **Premium vs. Budget Categories**:\n",
    "  - Categories on the right (e.g., **10, 7, 6**) command significantly higher average purchase values, likely representing premium or big-ticket items.\n",
    "  - Categories on the left (e.g., **13, 12, 4**) have lower average values, suggesting budget-friendly or commoditized products.\n",
    "\n",
    "- **Strategic Implications**:\n",
    "  - High-value categories (right) may benefit from upselling/cross-selling strategies (e.g., warranties, accessories).\n",
    "  - Low-value categories (left) could drive volume through promotions or subscription models.\n",
    "\n",
    "#### Actionable Recommendations:\n",
    "1. **Pricing Strategy**:\n",
    "   - For premium categories, emphasize value perception through marketing and VIP perks.\n",
    "   - For budget categories, focus on volume-driven promotions to maintain revenue flow.\n",
    "\n",
    "2. **Customer Segmentation**:\n",
    "   - Target high-spending customer profiles with luxury/premium categories.\n",
    "   - Use low-cost categories as entry points to build customer loyalty."
   ]
  },
  {
   "cell_type": "code",
   "execution_count": 40,
   "id": "37207630",
   "metadata": {},
   "outputs": [
    {
     "data": {
      "text/plain": [
       "<AxesSubplot:xlabel='Product_ID'>"
      ]
     },
     "execution_count": 40,
     "metadata": {},
     "output_type": "execute_result"
    },
    {
     "data": {
      "image/png": "[encoded data removed]",
      "text/plain": [
       "<Figure size 432x288 with 1 Axes>"
      ]
     },
     "metadata": {
      "needs_background": "light"
     },
     "output_type": "display_data"
    }
   ],
   "source": [
    "df.groupby('Product_ID').sum()['Purchase'].nlargest(10).sort_values().plot(kind = 'bar')"
   ]
  },
  {
   "cell_type": "code",
   "execution_count": 43,
   "id": "fc77446c",
   "metadata": {},
   "outputs": [
    {
     "data": {
      "text/plain": [
       "<AxesSubplot:xlabel='Product_ID'>"
      ]
     },
     "execution_count": 43,
     "metadata": {},
     "output_type": "execute_result"
    },
    {
     "data": {
      "image/png": "[encoded data removed]",
      "text/plain": [
       "<Figure size 432x288 with 1 Axes>"
      ]
     },
     "metadata": {
      "needs_background": "light"
     },
     "output_type": "display_data"
    }
   ],
   "source": [
    "df.groupby('Product_ID').mean()['Purchase'].nlargest(10).sort_values().plot(kind = 'bar')"
   ]
  },
  {
   "cell_type": "code",
   "execution_count": 44,
   "id": "05bf9810",
   "metadata": {},
   "outputs": [
    {
     "data": {
      "text/plain": [
       "<AxesSubplot:xlabel='Product_Category_1', ylabel='count'>"
      ]
     },
     "execution_count": 44,
     "metadata": {},
     "output_type": "execute_result"
    },
    {
     "data": {
      "image/png": "[encoded data removed]",
      "text/plain": [
       "<Figure size 432x288 with 1 Axes>"
      ]
     },
     "metadata": {
      "needs_background": "light"
     },
     "output_type": "display_data"
    }
   ],
   "source": [
    "sns.countplot(x = 'Product_Category_1', hue = 'Gender', data = df)"
   ]
  },
  {
   "cell_type": "markdown",
   "id": "8bbc36d0",
   "metadata": {},
   "source": [
    "### Conclusion and insights\n",
    "- **Product categories 1, 5, and 8** have the **highest purchase** counts for **both males and females**, indicating these are popular categories during Black Friday. These might include essential or heavily discounted items like electronics, clothing, or household goods. \n",
    "- **Gender Disparities**: **Males consistently outnumber females** across most product categories, especially in categories **1, 5, and 8**. However, the gap is smaller in certain categories **(e.g., category 3)**, suggesting some categories may appeal more equally to both genders.\n",
    "\n",
    "    \n",
    "#### Implications for Retailers \n",
    "- Retailers should ensure sufficient stock for high-demand categories (1, 5, 8) and consider gender-specific promotions. For instance, male-targeted campaigns could focus on categories with the largest male dominance, while female-targeted campaigns could aim to increase engagement in categories where female participation is lower."
   ]
  },
  {
   "cell_type": "code",
   "execution_count": 45,
   "id": "5dc33d41",
   "metadata": {},
   "outputs": [
    {
     "data": {
      "text/plain": [
       "<AxesSubplot:xlabel='Product_Category_1', ylabel='count'>"
      ]
     },
     "execution_count": 45,
     "metadata": {},
     "output_type": "execute_result"
    },
    {
     "data": {
      "image/png": "[encoded data removed]",
      "text/plain": [
       "<Figure size 432x288 with 1 Axes>"
      ]
     },
     "metadata": {
      "needs_background": "light"
     },
     "output_type": "display_data"
    }
   ],
   "source": [
    "sns.countplot(x = 'Product_Category_1', hue = 'Marital_Status', data = df)"
   ]
  },
  {
   "cell_type": "markdown",
   "id": "620742df",
   "metadata": {},
   "source": [
    "### Conclusion and Insight\n",
    "- **Similar Preferences Across Marital Status**: Both **married** (1) and **unmarried** (0) customers **show similar preferences** for product categories, with **categories 1, 5, and 8** again being the most popular. This suggests that marital status may not significantly influence product category preferences during Black Friday. \n",
    "- **Married Customers Dominate**: Married customers **(Marital_Status = 1)** have **higher purchase counts** across most categories compared to unmarried customers, aligning with the earlier demographic insight that married males are a significant portion of the customer base. \n",
    "### Retailer Strategy: \n",
    "- Retailers can focus on family-oriented products or promotions that appeal to married couples, especially in high-demand categories (1, 5, 8), while ensuring offerings also cater to unmarried customers who show similar category preferences."
   ]
  },
  {
   "cell_type": "markdown",
   "id": "f7369110",
   "metadata": {},
   "source": []
  },
  {
   "cell_type": "code",
   "execution_count": null,
   "id": "138ea50d",
   "metadata": {},
   "outputs": [],
   "source": []
  }
 ],
 "metadata": {
  "kernelspec": {
   "display_name": "Python 3 (ipykernel)",
   "language": "python",
   "name": "python3"
  },
  "language_info": {
   "codemirror_mode": {
    "name": "ipython",
    "version": 3
   },
   "file_extension": ".py",
   "mimetype": "text/x-python",
   "name": "python",
   "nbconvert_exporter": "python",
   "pygments_lexer": "ipython3",
   "version": "3.11.7"
  }
 },
 "nbformat": 4,
 "nbformat_minor": 5
}
